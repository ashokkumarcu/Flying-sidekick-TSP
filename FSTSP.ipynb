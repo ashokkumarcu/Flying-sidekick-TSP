{
 "cells": [
  {
   "cell_type": "code",
   "execution_count": 1,
   "id": "447f66b1",
   "metadata": {},
   "outputs": [],
   "source": [
    "#pip install gurobipy"
   ]
  },
  {
   "cell_type": "code",
   "execution_count": 2,
   "id": "1b8378d1",
   "metadata": {},
   "outputs": [],
   "source": [
    "from gurobipy import *\n",
    "import gurobipy as gp\n",
    "import pandas as pd\n",
    "import numpy as np"
   ]
  },
  {
   "cell_type": "code",
   "execution_count": 3,
   "id": "1c47b5eb",
   "metadata": {},
   "outputs": [],
   "source": [
    "c = 5\n",
    "\n",
    "maxSpeedTruck = 15.6464\n",
    "maxSpeedDrone = 22.352\n",
    "SL = 40\n",
    "SR = 30\n",
    "E = 2400.0\n",
    "M = 5313\n",
    "\n",
    "# set of the serviceable customers for the drones\n",
    "Cdrones = {1, 2, 3, 5}\n",
    "\n",
    "# distance matrix for the selected instance\n",
    "distance = [\n",
    "[     0,  7663, 11389, 15022, 11557,  7801,     0],\n",
    "[  7663,     0, 13324, 20798, 15531, 15388,  7663],\n",
    "[ 11389, 13324,     0, 10381, 22810, 12903, 11389],\n",
    "[ 15022, 20798, 10381,     0, 23513, 10161, 15022],\n",
    "[ 11557, 15531, 22810, 23513,     0, 13407, 11557],\n",
    "[  7801, 15388, 12903, 10161, 13407,     0,  7801],\n",
    "[     0,  7663, 11389, 15022, 11557,  7801,     0]\n",
    "]\n",
    "\n",
    "# travel times matrix for vehicles\n",
    "tauTruck = [\n",
    "[    0.0000,  612.2015,  909.8738, 1200.1163,  923.2955,  623.2264,    0.0000],\n",
    "[  612.2015,  0.0000, 1064.4621, 1661.5643, 1240.7806, 1229.3563,  612.2015],\n",
    "[  909.8738, 1064.4621,    0.0000,  829.3441, 1822.3042, 1030.8282,  909.8738],\n",
    "[ 1200.1163, 1661.5643,  829.3441,    0.0000, 1878.4673,  811.7682, 1200.1163],\n",
    "[  923.2955, 1240.7806, 1822.3042, 1878.4673,    0.0000, 1071.0930,  923.2955],\n",
    "[  623.2264, 1229.3563, 1030.8282,  811.7682, 1071.0930,    0.0000,  623.2264],\n",
    "[    0.0000,  612.2015,  909.8738, 1200.1163,  923.2955,  623.2264,    0.0000]\n",
    "]\n",
    "\n",
    "# travel times matrix for drones\n",
    "tauDrone = [\n",
    "[    0.0000,  428.5411,  636.9117,  840.0814,  646.3068,  436.2585,    0.0000],\n",
    "[  428.5411,    0.0000,  745.1235, 1163.0950,  868.5464,  860.5494,  428.5411],\n",
    "[  636.9117,  745.1235,    0.0000,  580.5409, 1275.6129,  721.5797,  636.9117],\n",
    "[  840.0814, 1163.0950,  580.5409,    0.0000, 1314.9271,  568.2377,  840.0814],\n",
    "[  646.3068,  868.5464, 1275.6129, 1314.9271,    0.0000,  749.7651,  646.3068],\n",
    "[  436.2585,  860.5494,  721.5797,  568.2377,  749.7651,    0.0000,  436.2585],\n",
    "[    0.0000,  428.5411,  636.9117,  840.0814,  646.3068,  436.2585,    0.0000]\n",
    "]\n",
    "\n"
   ]
  },
  {
   "cell_type": "code",
   "execution_count": 4,
   "id": "d2cb4e4e",
   "metadata": {},
   "outputs": [],
   "source": [
    "# F = set()\n",
    "# for i in range(c+1):\n",
    "#     for j in Cdrones:\n",
    "#         if j != i:\n",
    "#             for k in range(1, c+2):\n",
    "#                 if k != j and k != i and tauDrone[i][j] + tauDrone[j][k] <= E:\n",
    "#                     F.add((i,j,k))\n",
    "\n",
    "# print(F)"
   ]
  },
  {
   "cell_type": "code",
   "execution_count": null,
   "id": "71c78b16",
   "metadata": {},
   "outputs": [],
   "source": []
  },
  {
   "cell_type": "code",
   "execution_count": 5,
   "id": "59c62a10",
   "metadata": {},
   "outputs": [],
   "source": [
    "#set of all the drone's tuples\n",
    "F = {\n",
    "   (0,1,2), (0,1,4), (0,1,5), (0,1,6), (0,2,1), (0,2,3), (0,2,5), (0,2,6), (0,3,2), (0,3,5), (0,5,1), (0,5,2), (0,5,3), (0,5,4),(0,5,6), (1,2,3), (1,2,6), (1,5,3),\n",
    "(1,5,6), (2,1,6), (2,3,5), (2,3,6), (2,5,3), (2,5,6), (3,2,1), (3,2,5), (3,2,6), (3,5,1), (3,5,2), (3,5,4), (3,5,6), (4,1,6), (4,5,3), (4,5,6), (5,1,6), (5,2,3), (5,2,6),\n",
    "(5,3,2), (5,3,6)\n",
    "}\n",
    "    "
   ]
  },
  {
   "cell_type": "code",
   "execution_count": 6,
   "id": "7f1e2ad1",
   "metadata": {},
   "outputs": [
    {
     "name": "stdout",
     "output_type": "stream",
     "text": [
      "Set parameter Username\n",
      "Academic license - for non-commercial use only - expires 2025-06-07\n"
     ]
    }
   ],
   "source": [
    "m = Model(\"FSTSP\")"
   ]
  },
  {
   "cell_type": "code",
   "execution_count": 7,
   "id": "eb7a6942",
   "metadata": {},
   "outputs": [],
   "source": [
    "# Decision variables\n",
    "x = {}\n",
    "for i in range(c+1):\n",
    "    for j in range(1,c+2):\n",
    "        if j != i:\n",
    "            x[i,j] = m.addVar(vtype = GRB.BINARY, name = f'x{i,j}')"
   ]
  },
  {
   "cell_type": "code",
   "execution_count": 8,
   "id": "9a9ee7f3",
   "metadata": {},
   "outputs": [],
   "source": [
    "y = {}\n",
    "for i in range(c+1):\n",
    "    for j in range(1, c+1):\n",
    "        if j != i:\n",
    "            for k in range(1, c+2):\n",
    "                if (i,j,k) in F:\n",
    "                    y[i,j,k] = m.addVar(vtype = GRB.BINARY, name = f'y{i,j,k}')"
   ]
  },
  {
   "cell_type": "code",
   "execution_count": 9,
   "id": "4360257f",
   "metadata": {},
   "outputs": [],
   "source": [
    "t_T = {}\n",
    "for i in range(c+2):\n",
    "    t_T[i] = m.addVar(vtype = GRB.CONTINUOUS, lb = 0, name = f't_T{j}')\n",
    "t_D = {}\n",
    "for i in range(c+2):\n",
    "    t_D[i] = m.addVar(vtype = GRB.CONTINUOUS, lb = 0, name = f't_D{j}')"
   ]
  },
  {
   "cell_type": "code",
   "execution_count": 10,
   "id": "95842b38",
   "metadata": {},
   "outputs": [],
   "source": [
    "p = {}\n",
    "for i in range(c+1):\n",
    "    for j in range(1,c+1):\n",
    "        if j!= i:\n",
    "            p[i,j] = m.addVar(vtype = GRB.BINARY, name = f'p{i,j}')"
   ]
  },
  {
   "cell_type": "code",
   "execution_count": 11,
   "id": "8ad93b2b",
   "metadata": {},
   "outputs": [],
   "source": [
    "u = {}\n",
    "for i in range(1, c+2):\n",
    "    u[i] = m.addVar(lb = 1, ub = c+2, vtype = GRB.INTEGER, name = f'u{i}')"
   ]
  },
  {
   "cell_type": "code",
   "execution_count": 12,
   "id": "f6bd90d5",
   "metadata": {},
   "outputs": [],
   "source": [
    "# Objective\n",
    "m.setObjective(t_T[6], GRB.MINIMIZE)"
   ]
  },
  {
   "cell_type": "code",
   "execution_count": 13,
   "id": "78b67705",
   "metadata": {},
   "outputs": [],
   "source": [
    "# Constraints\n",
    "#for i in range(c+1):\n",
    "#       for j in range(i+1,c+1):\n",
    "#             if i != j:\n",
    "for j in range(1,c+1):\n",
    "    m.addConstr(quicksum(x[i,j] for i in range(c+1) if i != j) + quicksum(y[i,j,k] for i in range(c+1) if i != j for k in range(1,c+2) if (i,j,k) in F) == 1)"
   ]
  },
  {
   "cell_type": "code",
   "execution_count": 14,
   "id": "a6d688ce",
   "metadata": {},
   "outputs": [
    {
     "data": {
      "text/plain": [
       "<gurobi.Constr *Awaiting Model Update*>"
      ]
     },
     "execution_count": 14,
     "metadata": {},
     "output_type": "execute_result"
    }
   ],
   "source": [
    "m.addConstr(quicksum(x[0,j] for j in range(1,c+2)) == 1)\n",
    "m.addConstr(quicksum(x[i,c+1] for i in range(c+1)) == 1)"
   ]
  },
  {
   "cell_type": "code",
   "execution_count": 15,
   "id": "a11a0061",
   "metadata": {},
   "outputs": [],
   "source": [
    "for i in range(1,c+1):\n",
    "    for j in range(1,c+2):\n",
    "        if j != i:\n",
    "            m.addConstr(u[i]-u[j] + 1 <= (c+2)*(1-x[i,j]))"
   ]
  },
  {
   "cell_type": "code",
   "execution_count": 16,
   "id": "8a050713",
   "metadata": {},
   "outputs": [],
   "source": [
    "for j in range(1,c+1):\n",
    "    m.addConstr(quicksum(x[i,j] for i in range(c+1) if i != j) == quicksum(x[j,k] for k in range(1,c+2) if k != j))"
   ]
  },
  {
   "cell_type": "code",
   "execution_count": 17,
   "id": "28226aad",
   "metadata": {},
   "outputs": [],
   "source": [
    "for i in range(c+1):\n",
    "    m.addConstr(quicksum(y[i,j,k] for j in range(1,c+1) if j != i for k in range(1,c+2) if (i,j,k) in F) <= 1)"
   ]
  },
  {
   "cell_type": "code",
   "execution_count": 18,
   "id": "e7807db1",
   "metadata": {},
   "outputs": [],
   "source": [
    "for k in range(1,c+2):\n",
    "    m.addConstr(quicksum(y[i,j,k] for i in range(c+1) if i != k for j in range(1,c+1) if (i,j,k) in F) <= 1)"
   ]
  },
  {
   "cell_type": "code",
   "execution_count": 19,
   "id": "9858e427",
   "metadata": {},
   "outputs": [],
   "source": [
    "for i in range(1,c+1):\n",
    "    for j in range(1,c+1):\n",
    "        if j != i:\n",
    "            for k in range(1, c+2):\n",
    "                if (i,j,k) in F:\n",
    "                    m.addConstr(2*y[i,j,k] <= quicksum(x[h,i] for h in range(c+1) if h != i) + quicksum(x[l,k] for l in range(1,c+1) if l != k))"
   ]
  },
  {
   "cell_type": "code",
   "execution_count": 20,
   "id": "8f568bb7",
   "metadata": {},
   "outputs": [],
   "source": [
    "for j in range(1,c+1):\n",
    "    for k in range(1,c+2):\n",
    "        if (0,j,k) in F:\n",
    "            m.addConstr(y[0,j,k] <= quicksum(x[h,k] for h in range(c+1) if h != k))"
   ]
  },
  {
   "cell_type": "code",
   "execution_count": 21,
   "id": "e29da4bd",
   "metadata": {},
   "outputs": [],
   "source": [
    "for i in range(1,c+1):\n",
    "    for k in range(1,c+2):\n",
    "        if k != i:\n",
    "            m.addConstr(u[k]-u[i] >= 1 - (c+2)*(1-quicksum(y[i,j,k] for j in range(1,c+1) if (i,j,k) in F)))"
   ]
  },
  {
   "cell_type": "code",
   "execution_count": 22,
   "id": "c2090e79",
   "metadata": {},
   "outputs": [],
   "source": [
    "for i in range(1,c+1):\n",
    "    m.addConstr(t_D[i] >= t_T[i] - M*(1-quicksum(y[i,j,k] for j in range(1,c+1) if j != i for k in range(1,c+2) if (i,j,k) in F)))"
   ]
  },
  {
   "cell_type": "code",
   "execution_count": 23,
   "id": "7ef82e03",
   "metadata": {},
   "outputs": [],
   "source": [
    "for i in range(1,c+1):\n",
    "    m.addConstr(t_D[i] <= t_T[i] + M*(1-quicksum(y[i,j,k] for j in range(1,c+1) if j != i for k in range(1,c+2) if (i,j,k) in F)))"
   ]
  },
  {
   "cell_type": "code",
   "execution_count": 24,
   "id": "688c4e6d",
   "metadata": {},
   "outputs": [],
   "source": [
    "for k in range(c+2):\n",
    "    m.addConstr(t_D[k] >= t_T[k] - M*(1-quicksum(y[i,j,k] for i in range(c+1) if i != k for j in range(1,c+1) if (i,j,k) in F)))"
   ]
  },
  {
   "cell_type": "code",
   "execution_count": 25,
   "id": "3af5ea2a",
   "metadata": {},
   "outputs": [],
   "source": [
    "for k in range(c+2):\n",
    "    m.addConstr(t_D[k] <= t_T[k] + M*(1-quicksum(y[i,j,k] for i in range(c+1) if i != k for j in range(1,c+1) if (i,j,k) in F)))"
   ]
  },
  {
   "cell_type": "code",
   "execution_count": 26,
   "id": "1f9c4ed4",
   "metadata": {},
   "outputs": [],
   "source": [
    "for h in range(c+1):\n",
    "    for k in range(1,c+2):\n",
    "        if k != h:\n",
    "            m.addConstr(t_T[k] >= t_T[h] + tauTruck[h][k] + SL*(quicksum(y[k,l,m] for l in range(1,c+1) if l!=k for m in range(1,c+2) if (k,l,m) in F)) + SR*(quicksum(y[i,j,k] for i in range(c+1) if i != k for j in range(1,c+1) if (i,j,k) in F)) - M*(1-x[h,k]))"
   ]
  },
  {
   "cell_type": "code",
   "execution_count": 27,
   "id": "10a146ba",
   "metadata": {},
   "outputs": [],
   "source": [
    "for j in Cdrones:\n",
    "    for i in range(c+1):\n",
    "        if i != j:\n",
    "            m.addConstr(t_D[j] >= t_D[i] + tauDrone[i][j]- M*(1 - quicksum(y[i,j,k] for k in range(1,c+2) if (i,j,k) in F)))"
   ]
  },
  {
   "cell_type": "code",
   "execution_count": 28,
   "id": "d6e85027",
   "metadata": {},
   "outputs": [],
   "source": [
    "for j in Cdrones:\n",
    "    for k in range(1,c+2):\n",
    "        if k != j:\n",
    "            m.addConstr(t_D[k] >= t_D[j] + tauDrone[j][k] + SR - M*(1 - quicksum(y[i,j,k] for i in range(c+1) if (i,j,k) in F)))"
   ]
  },
  {
   "cell_type": "code",
   "execution_count": 29,
   "id": "3455305a",
   "metadata": {},
   "outputs": [],
   "source": [
    "for k in range(1,c+2):\n",
    "    for j in range(1,c+1):\n",
    "        if j != k:\n",
    "            for i in range(c+1):\n",
    "                if (i,j,k) in F:\n",
    "                    m.addConstr(t_D[k] - (t_D[j] - tauDrone[i][j]) <= E + M*(1-y[i,j,k]))"
   ]
  },
  {
   "cell_type": "code",
   "execution_count": 30,
   "id": "785124ec",
   "metadata": {},
   "outputs": [],
   "source": [
    "for i in range(1,c+1):\n",
    "    for j in range(1,c+1):\n",
    "        if j!= i:\n",
    "            m.addConstr(u[i] - u[j] >= 1-(c+2)*p[i,j])"
   ]
  },
  {
   "cell_type": "code",
   "execution_count": 31,
   "id": "798077a8",
   "metadata": {},
   "outputs": [],
   "source": [
    "for i in range(1,c+1):\n",
    "    for j in range(1,c+1):\n",
    "        if j!= i:\n",
    "            m.addConstr(u[i] - u[j] <= -1+(c+2)*(1-p[i,j]))"
   ]
  },
  {
   "cell_type": "code",
   "execution_count": 32,
   "id": "324b55e8",
   "metadata": {},
   "outputs": [],
   "source": [
    "for i in range(1,c+1):\n",
    "    for j in range(1,c+1):\n",
    "        if j!=i:\n",
    "            m.addConstr(p[i,j] + p[j,i] == 1)"
   ]
  },
  {
   "cell_type": "code",
   "execution_count": 33,
   "id": "3fc543b5",
   "metadata": {},
   "outputs": [],
   "source": [
    "for i in range(c+1):\n",
    "    for k in range(1,c+2):\n",
    "        if k != i:\n",
    "            for l in range(1,c+1):\n",
    "                if l != i and l != k:\n",
    "                    m.addConstr(t_D[l] >= t_D[k] - M*(3-quicksum(y[i,j,k] for j in range(1,c+1) if (i,j,k) in F if j != l) - quicksum(y[l,m,n] for m in range(1,c+1) if m != i and m != k and m != l for n in range(1,c+2) if n != i and n != k and (l,m,n) in F) - p[i,l]))"
   ]
  },
  {
   "cell_type": "code",
   "execution_count": 34,
   "id": "a8a731eb",
   "metadata": {},
   "outputs": [
    {
     "data": {
      "text/plain": [
       "<gurobi.Constr *Awaiting Model Update*>"
      ]
     },
     "execution_count": 34,
     "metadata": {},
     "output_type": "execute_result"
    }
   ],
   "source": [
    "m.addConstr(t_T[0] == 0)"
   ]
  },
  {
   "cell_type": "code",
   "execution_count": 35,
   "id": "9585aa2a",
   "metadata": {},
   "outputs": [
    {
     "data": {
      "text/plain": [
       "<gurobi.Constr *Awaiting Model Update*>"
      ]
     },
     "execution_count": 35,
     "metadata": {},
     "output_type": "execute_result"
    }
   ],
   "source": [
    "m.addConstr(t_D[0] == 0)"
   ]
  },
  {
   "cell_type": "code",
   "execution_count": 36,
   "id": "b54a0b65",
   "metadata": {},
   "outputs": [],
   "source": [
    "for j in range(1,c+1):\n",
    "    m.addConstr(p[0,j] == 1)"
   ]
  },
  {
   "cell_type": "code",
   "execution_count": 37,
   "id": "4081c414",
   "metadata": {},
   "outputs": [
    {
     "name": "stdout",
     "output_type": "stream",
     "text": [
      "Gurobi Optimizer version 11.0.2 build v11.0.2rc0 (win64 - Windows 10.0 (19045.2))\n",
      "\n",
      "CPU model: AMD E1-1200 APU with Radeon(tm) HD Graphics, instruction set [SSE2]\n",
      "Thread count: 2 physical cores, 2 logical processors, using up to 2 threads\n",
      "\n",
      "Optimize a model with 419 rows, 115 columns and 2352 nonzeros\n",
      "Model fingerprint: 0x8d519e34\n",
      "Variable types: 14 continuous, 101 integer (95 binary)\n",
      "Coefficient statistics:\n",
      "  Matrix range     [1e+00, 5e+03]\n",
      "  Objective range  [1e+00, 1e+00]\n",
      "  Bounds range     [1e+00, 7e+00]\n",
      "  RHS range        [1e+00, 2e+04]\n",
      "Presolve removed 66 rows and 18 columns\n",
      "Presolve time: 0.14s\n",
      "Presolved: 353 rows, 97 columns, 2121 nonzeros\n",
      "Variable types: 12 continuous, 85 integer (80 binary)\n",
      "Found heuristic solution: objective 5312.1644000\n",
      "Found heuristic solution: objective 5287.9986000\n",
      "Found heuristic solution: objective 4771.8803000\n",
      "\n",
      "Root relaxation: objective 0.000000e+00, 39 iterations, 0.02 seconds (0.00 work units)\n",
      "\n",
      "    Nodes    |    Current Node    |     Objective Bounds      |     Work\n",
      " Expl Unexpl |  Obj  Depth IntInf | Incumbent    BestBd   Gap | It/Node Time\n",
      "\n",
      "     0     0    0.00000    0    7 4771.88030    0.00000   100%     -    0s\n",
      "H    0     0                    3935.9463000    0.00000   100%     -    0s\n",
      "     0     0    0.00000    0   14 3935.94630    0.00000   100%     -    1s\n",
      "     0     0    0.00000    0   20 3935.94630    0.00000   100%     -    1s\n",
      "     0     0    0.00000    0   11 3935.94630    0.00000   100%     -    1s\n",
      "     0     0    0.00000    0    8 3935.94630    0.00000   100%     -    1s\n",
      "     0     0    0.00000    0   10 3935.94630    0.00000   100%     -    1s\n",
      "     0     0    0.00000    0   16 3935.94630    0.00000   100%     -    1s\n",
      "     0     0    0.00000    0   17 3935.94630    0.00000   100%     -    1s\n",
      "     0     0    0.00000    0   23 3935.94630    0.00000   100%     -    1s\n",
      "     0     0    0.00000    0   10 3935.94630    0.00000   100%     -    1s\n",
      "     0     0    0.00000    0    9 3935.94630    0.00000   100%     -    1s\n",
      "     0     2    0.00000    0    9 3935.94630    0.00000   100%     -    1s\n",
      "\n",
      "Cutting planes:\n",
      "  Learned: 23\n",
      "  Cover: 2\n",
      "  Implied bound: 24\n",
      "  MIR: 23\n",
      "  StrongCG: 3\n",
      "  Inf proof: 3\n",
      "  Zero half: 1\n",
      "  RLT: 9\n",
      "  Relax-and-lift: 5\n",
      "\n",
      "Explored 390 nodes (5936 simplex iterations) in 2.78 seconds (0.21 work units)\n",
      "Thread count was 2 (of 2 available processors)\n",
      "\n",
      "Solution count 4: 3935.95 4771.88 5288 5312.16 \n",
      "\n",
      "Optimal solution found (tolerance 1.00e-04)\n",
      "Best objective 3.935946300000e+03, best bound 3.935946300000e+03, gap 0.0000%\n"
     ]
    }
   ],
   "source": [
    "m.optimize()"
   ]
  },
  {
   "cell_type": "code",
   "execution_count": 38,
   "id": "04b13b77",
   "metadata": {},
   "outputs": [
    {
     "name": "stdout",
     "output_type": "stream",
     "text": [
      "Warning: variable name \"x(0, 1)\" has a space\n",
      "Warning: to let Gurobi read it back, use rlp format\n"
     ]
    }
   ],
   "source": [
    "m.write(\"FSTSP.lp\")"
   ]
  },
  {
   "cell_type": "code",
   "execution_count": 39,
   "id": "978b0ab3",
   "metadata": {},
   "outputs": [
    {
     "name": "stdout",
     "output_type": "stream",
     "text": [
      "Optimal solution found\n",
      "OPtimal Objective Value: 3935.9462999998914\n",
      "x[0,1] = 1.0\n",
      "x[1,5] = 1.0\n",
      "x[4,6] = 1.0\n",
      "x[5,4] = 1.0\n",
      "y[0,2,5] = 1.0\n",
      "y[5,3,6] = 1.0\n",
      "u[1] = 2.0\n",
      "u[2] = 3.0\n",
      "u[3] = 1.0\n",
      "u[4] = 6.0\n",
      "u[5] = 4.0\n",
      "u[6] = 7.0\n",
      "t_T[1] = 612.2014999999856\n",
      "t_T[2] = 615.915299522675\n",
      "t_T[3] = 384.05209952256473\n",
      "t_T[4] = 2982.6507999999117\n",
      "t_T[5] = 1911.5577999999412\n",
      "t_T[6] = 3935.9462999998914\n",
      "t_D[2] = 1159.978099999893\n",
      "t_D[3] = 3065.864899999812\n",
      "t_D[5] = 1911.5577999998932\n",
      "t_D[6] = 3935.9462999998123\n",
      "p[0,1] = 1.0\n",
      "p[0,2] = 1.0\n",
      "p[0,3] = 1.0\n",
      "p[0,4] = 1.0\n",
      "p[0,5] = 1.0\n",
      "p[1,2] = 1.0\n",
      "p[1,4] = 1.0\n",
      "p[1,5] = 1.0\n",
      "p[2,4] = 1.0\n",
      "p[2,5] = 1.0\n",
      "p[3,1] = 1.0\n",
      "p[3,2] = 1.0\n",
      "p[3,4] = 1.0\n",
      "p[3,5] = 1.0\n",
      "p[5,4] = 1.0\n"
     ]
    }
   ],
   "source": [
    "if m.status == GRB.OPTIMAL:\n",
    "    print(\"Optimal solution found\")\n",
    "    \n",
    "    print(f\"OPtimal Objective Value: {m.objVal}\")\n",
    "    \n",
    "    for i in range(c+1):\n",
    "        for j in range(1,c+2):\n",
    "            if i != j and x[i,j].X > 0.5:\n",
    "                print(f\"x[{i},{j}] = {x[i,j].X}\")\n",
    "                \n",
    "    for i in range(c+1):\n",
    "        for j in range(1,c+1):\n",
    "            if j != i:\n",
    "                for k in range(1,c+2):\n",
    "                    if (i,j,k) in F:\n",
    "                        if y[i,j,k].X > 0.5:\n",
    "                            print(f\"y[{i},{j},{k}] = {y[i,j,k].X}\")\n",
    "                            \n",
    "    for i in range(1, c+2):\n",
    "        print(f\"u[{i}] = {u[i].X}\")\n",
    "        \n",
    "    for i in range(1,c+2):\n",
    "        if t_T[i].X > 0.5:\n",
    "            print(f\"t_T[{i}] = {t_T[i].X}\") \n",
    "    \n",
    "    for i in range(1,c+2):\n",
    "        if t_D[i].X > 0.5:\n",
    "            print(f\"t_D[{i}] = {t_D[i].X}\")\n",
    "    \n",
    "    for i in range(c+1):\n",
    "        for j in range(1,c+1):\n",
    "            if j != i and p[i,j].X > 0.5: \n",
    "                print(f\"p[{i},{j}] = {p[i,j].X}\")\n",
    "                \n",
    "    "
   ]
  },
  {
   "cell_type": "code",
   "execution_count": null,
   "id": "a30f2c38",
   "metadata": {},
   "outputs": [],
   "source": []
  }
 ],
 "metadata": {
  "kernelspec": {
   "display_name": "Python 3 (ipykernel)",
   "language": "python",
   "name": "python3"
  },
  "language_info": {
   "codemirror_mode": {
    "name": "ipython",
    "version": 3
   },
   "file_extension": ".py",
   "mimetype": "text/x-python",
   "name": "python",
   "nbconvert_exporter": "python",
   "pygments_lexer": "ipython3",
   "version": "3.11.5"
  }
 },
 "nbformat": 4,
 "nbformat_minor": 5
}
