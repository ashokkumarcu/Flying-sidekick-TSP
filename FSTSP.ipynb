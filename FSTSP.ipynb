{
 "cells": [
  {
   "cell_type": "code",
   "execution_count": 1,
   "id": "447f66b1",
   "metadata": {},
   "outputs": [],
   "source": [
    "#pip install gurobipy"
   ]
  },
  {
   "cell_type": "code",
   "execution_count": 2,
   "id": "1b8378d1",
   "metadata": {},
   "outputs": [],
   "source": [
    "from gurobipy import *\n",
    "import gurobipy as gp\n",
    "import pandas as pd\n",
    "import numpy as np"
   ]
  },
  {
   "cell_type": "code",
   "execution_count": 3,
   "id": "1c47b5eb",
   "metadata": {},
   "outputs": [],
   "source": [
    "c = 5\n",
    "\n",
    "maxSpeedTruck = 15.6464\n",
    "maxSpeedDrone = 22.352\n",
    "SL = 40\n",
    "SR = 30\n",
    "E = 1440.0\n",
    "M = 5313\n",
    "\n",
    "# set of the serviceable customers for the drones\n",
    "Cdrones = {2, 3,}\n",
    "\n",
    "# distance matrix for the selected instance\n",
    "distance = [\n",
    "[     0,  7663, 11389, 15022, 11557,  7801,     0],\n",
    "[  7663,     0, 13324, 20798, 15531, 15388,  7663],\n",
    "[ 11389, 13324,     0, 10381, 22810, 12903, 11389],\n",
    "[ 15022, 20798, 10381,     0, 23513, 10161, 15022],\n",
    "[ 11557, 15531, 22810, 23513,     0, 13407, 11557],\n",
    "[  7801, 15388, 12903, 10161, 13407,     0,  7801],\n",
    "[     0,  7663, 11389, 15022, 11557,  7801,     0]\n",
    "]\n",
    "\n",
    "# travel times matrix for vehicles\n",
    "tauTruck = [\n",
    "[    0.0000,  612.2015,  909.8738, 1200.1163,  923.2955,  623.2264,    0.0000],\n",
    "[  612.2015,  0.0000, 1064.4621, 1661.5643, 1240.7806, 1229.3563,  612.2015],\n",
    "[  909.8738, 1064.4621,    0.0000,  829.3441, 1822.3042, 1030.8282,  909.8738],\n",
    "[ 1200.1163, 1661.5643,  829.3441,    0.0000, 1878.4673,  811.7682, 1200.1163],\n",
    "[  923.2955, 1240.7806, 1822.3042, 1878.4673,    0.0000, 1071.0930,  923.2955],\n",
    "[  623.2264, 1229.3563, 1030.8282,  811.7682, 1071.0930,    0.0000,  623.2264],\n",
    "[    0.0000,  612.2015,  909.8738, 1200.1163,  923.2955,  623.2264,    0.0000]\n",
    "]\n",
    "\n",
    "# travel times matrix for drones\n",
    "tauDrone = [\n",
    "[    0.0000,  428.5411,  636.9117,  840.0814,  646.3068,  436.2585,    0.0000],\n",
    "[  428.5411,    0.0000,  745.1235, 1163.0950,  868.5464,  860.5494,  428.5411],\n",
    "[  636.9117,  745.1235,    0.0000,  580.5409, 1275.6129,  721.5797,  636.9117],\n",
    "[  840.0814, 1163.0950,  580.5409,    0.0000, 1314.9271,  568.2377,  840.0814],\n",
    "[  646.3068,  868.5464, 1275.6129, 1314.9271,    0.0000,  749.7651,  646.3068],\n",
    "[  436.2585,  860.5494,  721.5797,  568.2377,  749.7651,    0.0000,  436.2585],\n",
    "[    0.0000,  428.5411,  636.9117,  840.0814,  646.3068,  436.2585,    0.0000]\n",
    "]\n",
    "\n"
   ]
  },
  {
   "cell_type": "code",
   "execution_count": 4,
   "id": "59c62a10",
   "metadata": {},
   "outputs": [],
   "source": [
    "# set of all the drone's tuples\n",
    "F = {\n",
    "    (0,1,2), (0,1,4), (0,1,5), (0,1,6), (0,2,1), (0,2,3), (0,2,5), (0,2,6), (0,3,2), (0,3,5), (0,5,1), (0,5,2), (0,5,3), (0,5,4),(0,5,6), (1,2,3), (1,2,6), (1,5,3),\n",
    "(1,5,6), (2,1,6), (2,3,5), (2,3,6), (2,5,3), (2,5,6), (3,2,1), (3,2,5), (3,2,6), (3,5,1), (3,5,2), (3,5,4), (3,5,6), (4,1,6), (4,5,3), (4,5,6), (5,1,6), (5,2,3), (5,2,6),\n",
    "(5,3,2), (5,3,6)\n",
    "}\n",
    "    "
   ]
  },
  {
   "cell_type": "code",
   "execution_count": 5,
   "id": "7f1e2ad1",
   "metadata": {},
   "outputs": [
    {
     "name": "stdout",
     "output_type": "stream",
     "text": [
      "Set parameter Username\n",
      "Academic license - for non-commercial use only - expires 2025-06-07\n"
     ]
    }
   ],
   "source": [
    "m = Model(\"FSTSP\")"
   ]
  },
  {
   "cell_type": "code",
   "execution_count": 6,
   "id": "eb7a6942",
   "metadata": {},
   "outputs": [],
   "source": [
    "# Decision variables\n",
    "x = {}\n",
    "for i in range(c+1):\n",
    "    for j in range(1, c+2):\n",
    "        if i != j:\n",
    "            x[i,j] = m.addVar(vtype = GRB.BINARY, name = f'x{[i,j]}')"
   ]
  },
  {
   "cell_type": "code",
   "execution_count": 7,
   "id": "9a9ee7f3",
   "metadata": {},
   "outputs": [],
   "source": [
    "y = {}\n",
    "for i in range(c+1):\n",
    "    for j in Cdrones:\n",
    "        for k in range(1, c+2):\n",
    "            y[i,j,k] = m.addVar(vtype = GRB.BINARY, name = f'y{[i,j,k]}')"
   ]
  },
  {
   "cell_type": "code",
   "execution_count": 8,
   "id": "4360257f",
   "metadata": {},
   "outputs": [],
   "source": [
    "t_T = {}\n",
    "for j in range(c+2):\n",
    "    t_T[j] = m.addVar(vtype = GRB.CONTINUOUS, name = f't_T{[j]}')\n",
    "t_D = {}\n",
    "for j in range(c+2):\n",
    "    t_D[j] = m.addVar(c, vtype = GRB.CONTINUOUS, name = f't_D{[j]}')"
   ]
  },
  {
   "cell_type": "code",
   "execution_count": 9,
   "id": "95842b38",
   "metadata": {},
   "outputs": [],
   "source": [
    "p = {}\n",
    "for i in range(c+1):\n",
    "    for j in range(1,c+1):\n",
    "        if i!= j:\n",
    "            p[i,j] = m.addVar(vtype = GRB.BINARY, name = f'p{[i,j]}')"
   ]
  },
  {
   "cell_type": "code",
   "execution_count": 10,
   "id": "8ad93b2b",
   "metadata": {},
   "outputs": [],
   "source": [
    "u = {}\n",
    "for i in range(1, c+2):\n",
    "    u[i] = m.addVar(lb = 1, ub = c+2, vtype = GRB.INTEGER, name = f'u{[i]}')"
   ]
  },
  {
   "cell_type": "code",
   "execution_count": 11,
   "id": "f6bd90d5",
   "metadata": {},
   "outputs": [],
   "source": [
    "# Objective\n",
    "m.setObjective(t_T[c+1], GRB.MINIMIZE)"
   ]
  },
  {
   "cell_type": "code",
   "execution_count": 13,
   "id": "78b67705",
   "metadata": {},
   "outputs": [
    {
     "ename": "KeyError",
     "evalue": "(0, 1, 2)",
     "output_type": "error",
     "traceback": [
      "\u001b[1;31m---------------------------------------------------------------------------\u001b[0m",
      "\u001b[1;31mKeyError\u001b[0m                                  Traceback (most recent call last)",
      "Cell \u001b[1;32mIn[13], line 6\u001b[0m\n\u001b[0;32m      1\u001b[0m \u001b[38;5;66;03m# Constraints\u001b[39;00m\n\u001b[0;32m      2\u001b[0m \u001b[38;5;66;03m#for i in range(c+1):\u001b[39;00m\n\u001b[0;32m      3\u001b[0m \u001b[38;5;66;03m#       for j in range(i+1,c+1):\u001b[39;00m\n\u001b[0;32m      4\u001b[0m \u001b[38;5;66;03m#             if i != j:\u001b[39;00m\n\u001b[0;32m      5\u001b[0m \u001b[38;5;28;01mfor\u001b[39;00m j \u001b[38;5;129;01min\u001b[39;00m \u001b[38;5;28mrange\u001b[39m(\u001b[38;5;241m1\u001b[39m,c\u001b[38;5;241m+\u001b[39m\u001b[38;5;241m1\u001b[39m):\n\u001b[1;32m----> 6\u001b[0m     m\u001b[38;5;241m.\u001b[39maddConstr(quicksum(x[i,j] \u001b[38;5;28;01mfor\u001b[39;00m i \u001b[38;5;129;01min\u001b[39;00m \u001b[38;5;28mrange\u001b[39m(c\u001b[38;5;241m+\u001b[39m\u001b[38;5;241m1\u001b[39m) \u001b[38;5;28;01mif\u001b[39;00m i \u001b[38;5;241m!=\u001b[39m j) \u001b[38;5;241m+\u001b[39m quicksum(y[i,j,k] \u001b[38;5;28;01mfor\u001b[39;00m i \u001b[38;5;129;01min\u001b[39;00m \u001b[38;5;28mrange\u001b[39m(c\u001b[38;5;241m+\u001b[39m\u001b[38;5;241m1\u001b[39m) \u001b[38;5;28;01mfor\u001b[39;00m k \u001b[38;5;129;01min\u001b[39;00m \u001b[38;5;28mrange\u001b[39m(\u001b[38;5;241m1\u001b[39m,c\u001b[38;5;241m+\u001b[39m\u001b[38;5;241m2\u001b[39m) \u001b[38;5;28;01mif\u001b[39;00m (i,j,k) \u001b[38;5;129;01min\u001b[39;00m F) \u001b[38;5;241m==\u001b[39m \u001b[38;5;241m1\u001b[39m)\n",
      "File \u001b[1;32msrc\\\\gurobipy\\\\gurobi.pxi:3842\u001b[0m, in \u001b[0;36mgurobipy.quicksum\u001b[1;34m()\u001b[0m\n",
      "Cell \u001b[1;32mIn[13], line 6\u001b[0m, in \u001b[0;36m<genexpr>\u001b[1;34m(.0)\u001b[0m\n\u001b[0;32m      1\u001b[0m \u001b[38;5;66;03m# Constraints\u001b[39;00m\n\u001b[0;32m      2\u001b[0m \u001b[38;5;66;03m#for i in range(c+1):\u001b[39;00m\n\u001b[0;32m      3\u001b[0m \u001b[38;5;66;03m#       for j in range(i+1,c+1):\u001b[39;00m\n\u001b[0;32m      4\u001b[0m \u001b[38;5;66;03m#             if i != j:\u001b[39;00m\n\u001b[0;32m      5\u001b[0m \u001b[38;5;28;01mfor\u001b[39;00m j \u001b[38;5;129;01min\u001b[39;00m \u001b[38;5;28mrange\u001b[39m(\u001b[38;5;241m1\u001b[39m,c\u001b[38;5;241m+\u001b[39m\u001b[38;5;241m1\u001b[39m):\n\u001b[1;32m----> 6\u001b[0m     m\u001b[38;5;241m.\u001b[39maddConstr(quicksum(x[i,j] \u001b[38;5;28;01mfor\u001b[39;00m i \u001b[38;5;129;01min\u001b[39;00m \u001b[38;5;28mrange\u001b[39m(c\u001b[38;5;241m+\u001b[39m\u001b[38;5;241m1\u001b[39m) \u001b[38;5;28;01mif\u001b[39;00m i \u001b[38;5;241m!=\u001b[39m j) \u001b[38;5;241m+\u001b[39m quicksum(y[i,j,k] \u001b[38;5;28;01mfor\u001b[39;00m i \u001b[38;5;129;01min\u001b[39;00m \u001b[38;5;28mrange\u001b[39m(c\u001b[38;5;241m+\u001b[39m\u001b[38;5;241m1\u001b[39m) \u001b[38;5;28;01mfor\u001b[39;00m k \u001b[38;5;129;01min\u001b[39;00m \u001b[38;5;28mrange\u001b[39m(\u001b[38;5;241m1\u001b[39m,c\u001b[38;5;241m+\u001b[39m\u001b[38;5;241m2\u001b[39m) \u001b[38;5;28;01mif\u001b[39;00m (i,j,k) \u001b[38;5;129;01min\u001b[39;00m F) \u001b[38;5;241m==\u001b[39m \u001b[38;5;241m1\u001b[39m)\n",
      "\u001b[1;31mKeyError\u001b[0m: (0, 1, 2)"
     ]
    }
   ],
   "source": [
    "# Constraints\n",
    "#for i in range(c+1):\n",
    "#       for j in range(i+1,c+1):\n",
    "#             if i != j:\n",
    "for j in range(1,c+1):\n",
    "    m.addConstr(quicksum(x[i,j] for i in range(c+1) if i != j) + quicksum(y[i,j,k] for i in range(c+1) for k in range(1,c+2) if (i,j,k) in F) == 1)"
   ]
  },
  {
   "cell_type": "code",
   "execution_count": 14,
   "id": "a6d688ce",
   "metadata": {},
   "outputs": [
    {
     "data": {
      "text/plain": [
       "<gurobi.Constr *Awaiting Model Update*>"
      ]
     },
     "execution_count": 14,
     "metadata": {},
     "output_type": "execute_result"
    }
   ],
   "source": [
    "m.addConstr(quicksum(x[0,j] for j in range(1,c+2)) == 1)\n",
    "m.addConstr(quicksum(x[i,c+1] for i in range(c+1)) == 1)"
   ]
  },
  {
   "cell_type": "code",
   "execution_count": 15,
   "id": "a11a0061",
   "metadata": {},
   "outputs": [],
   "source": [
    "for i in range(1,c+1):\n",
    "    for j in range(1,c+2):\n",
    "        if j != i:\n",
    "            m.addConstr(u[i]-u[j] + 1 <= (c+2)*(1-x[i,j]))"
   ]
  },
  {
   "cell_type": "code",
   "execution_count": 16,
   "id": "8a050713",
   "metadata": {},
   "outputs": [],
   "source": [
    "for j in range(1,c+1):\n",
    "    m.addConstr(quicksum(x[i,j] for i in range(c+1) if i != j) == quicksum(x[j,k] for k in range(1,c+2) if k != j))"
   ]
  },
  {
   "cell_type": "code",
   "execution_count": 17,
   "id": "28226aad",
   "metadata": {},
   "outputs": [],
   "source": [
    "for i in range(c+1):\n",
    "    m.addConstr(quicksum(y[i,j,k] for j in Cdrones if j != i for k in range(1,c+2) if (i,j,k) in F) <= 1)"
   ]
  },
  {
   "cell_type": "code",
   "execution_count": 18,
   "id": "e7807db1",
   "metadata": {},
   "outputs": [],
   "source": [
    "for k in range(1,c+2):\n",
    "    m.addConstr(quicksum(y[i,j,k] for i in range(c+1) if i != k for j in Cdrones if (i,j,k) in F) <= 1)"
   ]
  },
  {
   "cell_type": "code",
   "execution_count": 19,
   "id": "9858e427",
   "metadata": {},
   "outputs": [],
   "source": [
    "for i in range(c+1):\n",
    "    for j in Cdrones:\n",
    "        for k in range(1, c+2):\n",
    "                m.addConstr(2*y[i,j,k] <= quicksum(x[i,h] for h in range(1, c+2) if h != i) + quicksum(x[l,k] for l in range(c+1) if l != k))"
   ]
  },
  {
   "cell_type": "code",
   "execution_count": 20,
   "id": "8f568bb7",
   "metadata": {},
   "outputs": [],
   "source": [
    "for j in Cdrones:\n",
    "    for k in range(1,c+2):\n",
    "        if (0,j,k) in F:\n",
    "            m.addConstr(y[0,j,k] <= quicksum(x[h,k] for h in range(c+1) if h != k))"
   ]
  },
  {
   "cell_type": "code",
   "execution_count": 21,
   "id": "c2090e79",
   "metadata": {},
   "outputs": [],
   "source": [
    "for i in range(c+1):\n",
    "    t_D[i] >= t_T[i] - M*(1-quicksum(y[i,j,k] for j in Cdrones if j != i for k in range(1,c+2) if (i,j,k) in F))"
   ]
  },
  {
   "cell_type": "code",
   "execution_count": 22,
   "id": "7ef82e03",
   "metadata": {},
   "outputs": [],
   "source": [
    "for i in range(c+1):\n",
    "    t_T[i] >= t_D[i] - M*(1-quicksum(y[i,j,k] for j in Cdrones if j != i for k in range(1,c+2) if (i,j,k) in F))"
   ]
  },
  {
   "cell_type": "code",
   "execution_count": 23,
   "id": "688c4e6d",
   "metadata": {},
   "outputs": [],
   "source": [
    "for k in range(1,c+1):\n",
    "    t_D[k] >= t_T[k] - M*(1-quicksum(y[i,j,k] for i in range(c+1) if i != k for j in Cdrones if (i,j,k) in F))"
   ]
  },
  {
   "cell_type": "code",
   "execution_count": 24,
   "id": "3af5ea2a",
   "metadata": {},
   "outputs": [],
   "source": [
    "for k in range(1,c+1):\n",
    "    t_T[k] >= t_D[k] - M*(1-quicksum(y[i,j,k] for i in range(c+1) if i != k for j in Cdrones if (i,j,k) in F))"
   ]
  },
  {
   "cell_type": "code",
   "execution_count": 25,
   "id": "1f9c4ed4",
   "metadata": {},
   "outputs": [],
   "source": [
    "for h in range(c+1):\n",
    "    for k in range(1,c+2):\n",
    "        if k != h:\n",
    "            t_T[k] >= t_T[h] + tauTruck[h][k] + SL*(quicksum(y[h,l,m] for l in Cdrones if l!=h for m in range(1,c+2) if (h,l,m) in F)) + SR*(quicksum(y[i,j,k] for i in range(c+1) if i != k for j in Cdrones if (i,j,k) in F)) - M*(1-x[h,k])\n"
   ]
  },
  {
   "cell_type": "code",
   "execution_count": 26,
   "id": "10a146ba",
   "metadata": {},
   "outputs": [],
   "source": [
    "for j in Cdrones:\n",
    "    for i in range(c+1):\n",
    "        if i != j:\n",
    "            t_D[j] >= t_D[i] + tauDrone[i][j] + SL - M*(1 - quicksum(y[i,j,k] for k in range(1,c+2) if (i,j,k) in F))"
   ]
  },
  {
   "cell_type": "code",
   "execution_count": 27,
   "id": "d6e85027",
   "metadata": {},
   "outputs": [],
   "source": [
    "for j in Cdrones:\n",
    "    for k in range(1,c+2):\n",
    "        if k != j:\n",
    "            t_D[k] >= t_D[j] + tauDrone[j][k] + SR - M*(1 - quicksum(y[i,j,k] for i in range(c+1) if (i,j,k) in F))"
   ]
  },
  {
   "cell_type": "code",
   "execution_count": 28,
   "id": "3455305a",
   "metadata": {},
   "outputs": [],
   "source": [
    "for k in range(1,c+2):\n",
    "    for i in range(c+1):\n",
    "        t_D[k] - t_D[i] <= E + M*(1-quicksum(y[i,j,k] for j in Cdrones if (i,j,k) in F))"
   ]
  },
  {
   "cell_type": "code",
   "execution_count": 29,
   "id": "785124ec",
   "metadata": {},
   "outputs": [],
   "source": [
    "for i in range(1,c+1):\n",
    "    for j in range(1,c+1):\n",
    "        if j!= i:\n",
    "            u[i] - u[j] >= 1-(c+2)*p[i,j]"
   ]
  },
  {
   "cell_type": "code",
   "execution_count": 30,
   "id": "798077a8",
   "metadata": {},
   "outputs": [],
   "source": [
    "for i in range(1,c+1):\n",
    "    for j in range(1,c+1):\n",
    "        if j!= i:\n",
    "            u[i] - u[j] <= -1+(c+2)*(1-p[i,j])"
   ]
  },
  {
   "cell_type": "code",
   "execution_count": 31,
   "id": "324b55e8",
   "metadata": {},
   "outputs": [],
   "source": [
    "for i in range(1,c+1):\n",
    "    for j in range(1,c+1):\n",
    "        if i!=j:\n",
    "            p[i,j] + p[j,i] == 1"
   ]
  },
  {
   "cell_type": "code",
   "execution_count": 32,
   "id": "3fc543b5",
   "metadata": {},
   "outputs": [],
   "source": [
    "for i in range(c+1):\n",
    "    for k in range(1,c+2):\n",
    "        for l in range(1,c+1):\n",
    "            if k != i and l != i and l != k:\n",
    "                t_D[l] >= t_D[k] - M*(3-quicksum(y[i,j,k] for j in Cdrones if (i,j,k) in F if j != l) - quicksum(y[l,m,n] for m in Cdrones if m != i and m != k and m != l for n in range(1,c+2) if n != i and n != k and (l,m,n) in F) - p[i,l])"
   ]
  },
  {
   "cell_type": "code",
   "execution_count": 33,
   "id": "a8a731eb",
   "metadata": {},
   "outputs": [],
   "source": [
    "t_T[0] = 0"
   ]
  },
  {
   "cell_type": "code",
   "execution_count": 34,
   "id": "9585aa2a",
   "metadata": {},
   "outputs": [],
   "source": [
    "t_D[0] = 0"
   ]
  },
  {
   "cell_type": "code",
   "execution_count": 35,
   "id": "b54a0b65",
   "metadata": {},
   "outputs": [],
   "source": [
    "for j in range(1,c+1):\n",
    "    p[0,j] = 1"
   ]
  },
  {
   "cell_type": "code",
   "execution_count": 36,
   "id": "4081c414",
   "metadata": {},
   "outputs": [
    {
     "name": "stdout",
     "output_type": "stream",
     "text": [
      "Gurobi Optimizer version 11.0.2 build v11.0.2rc0 (win64 - Windows 10.0 (19045.2))\n",
      "\n",
      "CPU model: AMD E1-1200 APU with Radeon(tm) HD Graphics, instruction set [SSE2]\n",
      "Thread count: 2 physical cores, 2 logical processors, using up to 2 threads\n",
      "\n",
      "Optimize a model with 122 rows, 148 columns and 962 nonzeros\n",
      "Model fingerprint: 0xfecdf175\n",
      "Variable types: 14 continuous, 134 integer (128 binary)\n",
      "Coefficient statistics:\n",
      "  Matrix range     [1e+00, 7e+00]\n",
      "  Objective range  [1e+00, 1e+00]\n",
      "  Bounds range     [1e+00, 7e+00]\n",
      "  RHS range        [1e+00, 6e+00]\n",
      "Found heuristic solution: objective 0.0000000\n",
      "\n",
      "Explored 0 nodes (0 simplex iterations) in 0.14 seconds (0.00 work units)\n",
      "Thread count was 1 (of 2 available processors)\n",
      "\n",
      "Solution count 1: 0 \n",
      "\n",
      "Optimal solution found (tolerance 1.00e-04)\n",
      "Best objective 0.000000000000e+00, best bound 0.000000000000e+00, gap 0.0000%\n"
     ]
    }
   ],
   "source": [
    "m.optimize()"
   ]
  },
  {
   "cell_type": "code",
   "execution_count": null,
   "id": "04b13b77",
   "metadata": {},
   "outputs": [],
   "source": [
    "m.write(\"FSTSP.lp\")"
   ]
  },
  {
   "cell_type": "code",
   "execution_count": null,
   "id": "978b0ab3",
   "metadata": {},
   "outputs": [],
   "source": [
    "y"
   ]
  },
  {
   "cell_type": "code",
   "execution_count": null,
   "id": "a30f2c38",
   "metadata": {},
   "outputs": [],
   "source": []
  }
 ],
 "metadata": {
  "kernelspec": {
   "display_name": "Python 3 (ipykernel)",
   "language": "python",
   "name": "python3"
  },
  "language_info": {
   "codemirror_mode": {
    "name": "ipython",
    "version": 3
   },
   "file_extension": ".py",
   "mimetype": "text/x-python",
   "name": "python",
   "nbconvert_exporter": "python",
   "pygments_lexer": "ipython3",
   "version": "3.11.5"
  }
 },
 "nbformat": 4,
 "nbformat_minor": 5
}
